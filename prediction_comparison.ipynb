{
 "cells": [
  {
   "cell_type": "markdown",
   "metadata": {
    "collapsed": false
   },
   "source": [
    "### Latitude Prediction for Roman sundials\n",
    "\n",
    "Authors: Martin Hanik and Christoph von Tycowicz\n",
    "\n",
    "This notebook accompanies the paper ‘‘Intrinsic shape analysis in archaeology: A case study on ancient sundials’’ and allows to replicate one of the experiments. In the following, we apply geodesic regression in the shape space of differential coordinates to model the dependence of the shape of the sundials' shadow surfaces on the latitude of the installation site. The resulting trajectory provides the means to approximate the latitude for sundials whose installation site is unknown. We compare this method with [partial least squares regression](https://en.wikipedia.org/wiki/Partial_least_squares_regression).\n",
    "\n",
    "Let's first import the necessary libraries."
   ]
  },
  {
   "cell_type": "code",
   "execution_count": 1,
   "metadata": {
    "collapsed": false,
    "ExecuteTime": {
     "end_time": "2023-06-02T15:06:20.767333Z",
     "start_time": "2023-06-02T15:06:04.913899Z"
    }
   },
   "outputs": [
    {
     "name": "stdout",
     "output_type": "stream",
     "text": [
      "env: JAX_PLATFORM_NAME=cpu\n",
      "env: JAX_ENABLE_X64=True\n"
     ]
    }
   ],
   "source": [
    "%env JAX_PLATFORM_NAME=cpu\n",
    "%env JAX_ENABLE_X64=True\n",
    "%matplotlib inline\n",
    "\n",
    "import numpy as np\n",
    "import jax.numpy as jnp\n",
    "import pyvista as pv\n",
    "import os\n",
    "\n",
    "import matplotlib.pyplot as plt\n",
    "plt.rcParams[\"font.family\"] = \"Times New Roman\"\n",
    "from sklearn.cross_decomposition import PLSRegression\n",
    "\n",
    "from helper import generalized_procrustes\n",
    "\n",
    "from morphomatics.geom import Surface\n",
    "from morphomatics.stats import RiemannianRegression\n",
    "from morphomatics.manifold import DifferentialCoords"
   ]
  },
  {
   "cell_type": "markdown",
   "metadata": {
    "collapsed": false
   },
   "source": [
    "Now, we load triangle meshes of ten Roman shadow surfaces and a mean surface; we also provide the latitudes that correspond to the ten installation sites. Finally, the meshes are Procrustes aligned."
   ]
  },
  {
   "cell_type": "code",
   "execution_count": 2,
   "metadata": {
    "collapsed": false,
    "ExecuteTime": {
     "end_time": "2023-06-02T15:06:37.249892Z",
     "start_time": "2023-06-02T15:06:33.523144Z"
    }
   },
   "outputs": [
    {
     "name": "stdout",
     "output_type": "stream",
     "text": [
      "./meshes/Roman/ID017_shadowSurface_unitSize_mapped.ply\n",
      "./meshes/Roman/ID018_shadowSurface_unitSize_mapped.ply\n",
      "./meshes/Roman/ID021_shadowSurface_unitSize_mapped.ply\n",
      "./meshes/Roman/ID023_shadowSurface_unitSize_mapped.ply\n",
      "./meshes/Roman/ID029_shadowSurface_unitSize_mapped.ply\n",
      "./meshes/Roman/ID036_shadowSurface_unitSize_mapped.ply\n",
      "./meshes/Roman/ID065_shadowSurface_unitSize_mapped.ply\n",
      "./meshes/Roman/ID174_shadowSurface_unitSize_mapped.ply\n",
      "./meshes/Roman/ID519_shadowSurface_unitSize_mapped.ply\n",
      "./meshes/Roman/ID574_shadowSurface_unitSize_mapped.ply\n"
     ]
    }
   ],
   "source": [
    "# download meshes\n",
    "if not os.path.isdir('meshes'):\n",
    "    from urllib.request import urlopen\n",
    "    from zipfile import ZipFile\n",
    "\n",
    "    zipurl = 'https://www.zib.de/ext-data/sundial_shadow_surfaces/meshes.zip'\n",
    "    zipresp = urlopen(zipurl)\n",
    "    tempzip = open('/tmp/tempfile.zip', 'wb')\n",
    "    tempzip.write(zipresp.read())\n",
    "    tempzip.close()\n",
    "    zf = ZipFile('/tmp/tempfile.zip')\n",
    "    zf.extractall(path = 'meshes/')\n",
    "    zf.close()\n",
    "\n",
    "# reference to construct the shape space\n",
    "pyT = pv.read('./meshes/mean.ply')\n",
    "v = np.array(pyT.points)\n",
    "f = pyT.faces.reshape(-1, 4)[:, 1:]\n",
    "ref = Surface(v, f)\n",
    "\n",
    "directory = './meshes/Roman/'\n",
    "\n",
    "# latitudes corresponding to shadow surfaces of sundials in directory\n",
    "lat = jnp.array([42.091300, 41.670000, 40.750300, 40.750300, 40.750300, 41.803400, 41.756100, 40.750300, 40.703000, 43.315540])\n",
    "# mapping latitudes to [0,1]\n",
    "t = (lat - jnp.min(lat)) / (jnp.max(lat) - jnp.min(lat))\n",
    "\n",
    "# read data files\n",
    "surf = []\n",
    "list = os.listdir(directory)\n",
    "list.sort()\n",
    "for file in list:\n",
    "    filename = os.fsdecode(file)\n",
    "    if filename.endswith('.ply'):\n",
    "        print(directory + filename)\n",
    "        pyT = pv.read(directory + filename)\n",
    "        v = np.array(pyT.points)\n",
    "        f = pyT.faces.reshape(-1, 4)[:, 1:]\n",
    "        surf.append(Surface(v, f))\n",
    "        continue\n",
    "    else:\n",
    "        continue\n",
    "\n",
    "generalized_procrustes(surf)"
   ]
  },
  {
   "cell_type": "markdown",
   "metadata": {
    "collapsed": false
   },
   "source": [
    "We can now build the shape space of differential coordinates and encode the shadow surfaces."
   ]
  },
  {
   "cell_type": "code",
   "execution_count": 3,
   "metadata": {
    "collapsed": false,
    "ExecuteTime": {
     "end_time": "2023-06-02T15:06:45.630462Z",
     "start_time": "2023-06-02T15:06:42.914629Z"
    }
   },
   "outputs": [],
   "source": [
    "M = DifferentialCoords(ref)\n",
    "\n",
    "C = []\n",
    "P = []\n",
    "for s in surf:\n",
    "    P.append(s.v.reshape(-1))\n",
    "    C.append(M.to_coords(s.v))\n",
    "# center for PLS-regression\n",
    "P = jnp.stack(P) - jnp.mean(jnp.stack(P), axis=0)\n",
    "C = jnp.stack(C)"
   ]
  },
  {
   "cell_type": "markdown",
   "metadata": {
    "collapsed": false
   },
   "source": [
    "We now evaluate the accuracy of the prediction method from the paper. To this end, we use ten-fold cross validation and compare the average accuracy of the proposed method to the accuracy of using partial least squares regression."
   ]
  },
  {
   "cell_type": "code",
   "execution_count": 4,
   "metadata": {
    "collapsed": false,
    "ExecuteTime": {
     "end_time": "2023-06-02T15:46:38.662340Z",
     "start_time": "2023-06-02T15:07:36.238561Z"
    }
   },
   "outputs": [
    {
     "name": "stdout",
     "output_type": "stream",
     "text": [
      "Predicting sundial 1\n",
      "Predicting sundial 2\n",
      "Predicting sundial 3\n",
      "Predicting sundial 4\n",
      "Predicting sundial 5\n",
      "Predicting sundial 6\n",
      "Predicting sundial 7\n",
      "Predicting sundial 8\n",
      "Predicting sundial 9\n",
      "Predicting sundial 10\n",
      "Manifold mean error: 0.75; PLS mean error: 0.87\n",
      "Manifold standard deviation: 0.46; PLS standard deviation: 0.78\n"
     ]
    }
   ],
   "source": [
    "N = len(surf)\n",
    "e_man = jnp.zeros(N)\n",
    "e_PLS = jnp.zeros(N)\n",
    "for i in range(N):\n",
    "    print(f'Predicting sundial {i+1}')\n",
    "    # exclude i-th shadow surface\n",
    "    Clow = C[jnp.arange(N) != i]\n",
    "    Plow = P[jnp.arange(N) != i]\n",
    "    tlow = t[jnp.arange(N) != i]\n",
    "\n",
    "    # geodesic regression\n",
    "    regression = RiemannianRegression(M, Clow, tlow, 1)\n",
    "\n",
    "    # computed trajectory\n",
    "    gam = regression.trend\n",
    "\n",
    "    # PLS-regression\n",
    "    pls1 = PLSRegression(n_components=1)\n",
    "    X = Plow\n",
    "    y = np.atleast_2d(tlow - np.mean(tlow)).transpose()\n",
    "    pls1.fit(X, y)\n",
    "    tpred_PLS = pls1.predict(np.atleast_2d(P[i]))[0][0]\n",
    "\n",
    "    # project to regressed geodesic\n",
    "    X = gam.eval(0.)\n",
    "    Y = gam.eval(1.)\n",
    "    S = M.projToGeodesic(X, Y, C[i])\n",
    "\n",
    "    # get t value of projected point\n",
    "    tpred_man = M.dist(X, S) / M.dist(X, Y)\n",
    "\n",
    "    # save errors\n",
    "    e_man = e_man.at[i].set(jnp.abs(t[i] - tpred_man))\n",
    "    e_PLS = e_PLS.at[i].set(jnp.abs(t[i] - tpred_PLS))\n",
    "\n",
    "l = (jnp.max(lat) - jnp.min(lat))\n",
    "\n",
    "# map back to latitude interval\n",
    "e_man = l * e_man\n",
    "e_PLS = l * e_PLS\n",
    "\n",
    "print(f'Manifold mean error: {jnp.mean(e_man):.2f}; PLS mean error: {jnp.mean(e_PLS):.2f}')\n",
    "print(f'Manifold standard deviation: {jnp.std(e_man):.2f}; PLS standard deviation: {jnp.std(e_PLS):.2f}')"
   ]
  },
  {
   "cell_type": "markdown",
   "metadata": {
    "collapsed": false
   },
   "source": [
    "Finally, we plot the results."
   ]
  },
  {
   "cell_type": "code",
   "execution_count": 5,
   "metadata": {
    "collapsed": false,
    "ExecuteTime": {
     "end_time": "2023-06-02T15:46:39.812944Z",
     "start_time": "2023-06-02T15:46:38.762328Z"
    }
   },
   "outputs": [
    {
     "data": {
      "text/plain": "<Figure size 640x480 with 1 Axes>",
      "image/png": "[encoded data removed]"
     },
     "metadata": {},
     "output_type": "display_data"
    }
   ],
   "source": [
    "names = ['MAE', 'ID17', 'ID18', 'ID21', 'ID23', 'ID29', 'ID36', 'ID65', 'ID174', 'ID519', 'ID574']\n",
    "\n",
    "data = [[jnp.mean(e_man), jnp.mean(e_PLS)]]\n",
    "for i in range(len(e_man)):\n",
    "    data.append([e_man[i], e_PLS[i]])\n",
    "\n",
    "dim = len(data[0])\n",
    "w = 0.75\n",
    "dimw = w / dim\n",
    "\n",
    "fig, ax = plt.subplots()\n",
    "x = np.arange(len(data))\n",
    "for i in range(len(data[0])):\n",
    "    if i == 0:\n",
    "        lab = 'Differential coordinates'\n",
    "    else:\n",
    "        lab = 'PLS regression'\n",
    "    y = [d[i] for d in data]\n",
    "    b = ax.bar(x + i * dimw, y, dimw, label=lab)\n",
    "\n",
    "plt.errorbar(x[0], data[0][0], yerr=np.std(np.array(e_man)), ecolor='black', capsize=3)\n",
    "plt.errorbar(x[0] + dimw, data[0][1], yerr=np.std(np.array(e_PLS)), ecolor='black', capsize=3)\n",
    "\n",
    "plt.legend(loc='upper center')\n",
    "\n",
    "ax.set_xticks(x + dimw / 2, labels=names)\n",
    "\n",
    "ax.set_xlabel('Sundial object ID + MAE')\n",
    "ax.set_ylabel('Error in degrees of latitude')\n",
    "\n",
    "plt.show()"
   ]
  },
  {
   "cell_type": "code",
   "execution_count": null,
   "outputs": [],
   "source": [],
   "metadata": {
    "collapsed": false
   }
  }
 ],
 "metadata": {
  "kernelspec": {
   "display_name": "Python 3",
   "language": "python",
   "name": "python3"
  },
  "language_info": {
   "codemirror_mode": {
    "name": "ipython",
    "version": 2
   },
   "file_extension": ".py",
   "mimetype": "text/x-python",
   "name": "python",
   "nbconvert_exporter": "python",
   "pygments_lexer": "ipython2",
   "version": "2.7.6"
  }
 },
 "nbformat": 4,
 "nbformat_minor": 0
}
